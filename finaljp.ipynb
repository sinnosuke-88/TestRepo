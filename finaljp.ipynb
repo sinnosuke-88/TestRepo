{
 "cells": [
  {
   "cell_type": "markdown",
   "id": "37b4a0c6-de42-46c4-bf91-a8b3dee9f920",
   "metadata": {},
   "source": [
    "Data Science Tools and Ecosystem"
   ]
  },
  {
   "cell_type": "markdown",
   "id": "8dec9381-64fa-447b-80d3-7fb8c6ef7b14",
   "metadata": {},
   "source": [
    "データサイエンティストが使用する一般的な言語のいくつかは次のとおりです  \n",
    "1,Python  \n",
    "2,SQL  \n",
    "3,R  \n",
    "4,Bash/Shell  \n",
    "5,Java  \n",
    "6,Scala  \n",
    "7,Julia  \n",
    "8,C++  \n",
    "9,JavaScript  \n",
    "10,Go"
   ]
  },
  {
   "cell_type": "markdown",
   "id": "f13f6638-fbc8-4823-86d5-83f6632e8120",
   "metadata": {
    "tags": []
   },
   "source": [
    "### 目的:  \n",
    "データサイエンスのための一般的な言語をリストする  \n",
    "データサイエンス言語をリストするためのマークダウンセルを作成する  \n",
    "データサイエンスライブラリをリストするためのマークダウンセルを作成する"
   ]
  },
  {
   "cell_type": "markdown",
   "id": "0025b5ff-e6e7-44ff-b861-24d3c72dfaeb",
   "metadata": {},
   "source": [
    "データサイエンティストが使用する一般的なライブラリには次のようなものがあります  \n",
    "1,Numpy  \n",
    "2,Pandas  \n",
    "3,Scipy  "
   ]
  },
  {
   "cell_type": "markdown",
   "id": "194cd9ef-8165-4c18-a890-819b93ed8248",
   "metadata": {},
   "source": [
    "データサイエンスツール  \n",
    "1,Jupyter Notebook  \n",
    "2,VSCode  \n",
    "3,JupyterLab"
   ]
  },
  {
   "cell_type": "markdown",
   "id": "fd1e091a-bb19-4c73-85a5-98a4cd5ca175",
   "metadata": {},
   "source": [
    "以下は、Pythonで算術式を評価するいくつかの例です。  \n",
    "1,eval()  \n",
    "2,ast.literal_eval()  \n",
    "3,operators + tokenize  "
   ]
  },
  {
   "cell_type": "code",
   "execution_count": 2,
   "id": "a404f29d-4e69-42a3-86ef-c5cc772cbb54",
   "metadata": {
    "tags": []
   },
   "outputs": [
    {
     "data": {
      "text/plain": [
       "17"
      ]
     },
     "execution_count": 2,
     "metadata": {},
     "output_type": "execute_result"
    }
   ],
   "source": [
    "#これは整数を掛けてから加算する簡単な算術式です\n",
    "(3*4)+5"
   ]
  },
  {
   "cell_type": "code",
   "execution_count": 4,
   "id": "24aa9808-4f7c-45e1-af6d-9a19943dec6d",
   "metadata": {
    "tags": []
   },
   "outputs": [
    {
     "data": {
      "text/plain": [
       "3.3333333333333335"
      ]
     },
     "execution_count": 4,
     "metadata": {},
     "output_type": "execute_result"
    }
   ],
   "source": [
    "#これは200分を60で割って時間に変換します\n",
    "200/60"
   ]
  },
  {
   "cell_type": "markdown",
   "id": "480ffd0a-8c62-4709-aeea-349f4d048580",
   "metadata": {},
   "source": [
    "## 著者  \n",
    "伊藤慎之助"
   ]
  },
  {
   "cell_type": "code",
   "execution_count": null,
   "id": "9afc0199-3221-45a8-a09e-efde67d16d80",
   "metadata": {},
   "outputs": [],
   "source": []
  }
 ],
 "metadata": {
  "kernelspec": {
   "display_name": "Python 3 (ipykernel)",
   "language": "python",
   "name": "python3"
  },
  "language_info": {
   "codemirror_mode": {
    "name": "ipython",
    "version": 3
   },
   "file_extension": ".py",
   "mimetype": "text/x-python",
   "name": "python",
   "nbconvert_exporter": "python",
   "pygments_lexer": "ipython3",
   "version": "3.11.4"
  }
 },
 "nbformat": 4,
 "nbformat_minor": 5
}
